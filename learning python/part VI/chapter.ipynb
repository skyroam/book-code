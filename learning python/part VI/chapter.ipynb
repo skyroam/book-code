{
 "cells": [
  {
   "cell_type": "markdown",
   "metadata": {},
   "source": [
    "# Chapter 32"
   ]
  },
  {
   "cell_type": "markdown",
   "metadata": {},
   "source": [
    "## 1."
   ]
  },
  {
   "cell_type": "code",
   "execution_count": 1,
   "metadata": {},
   "outputs": [],
   "source": [
    "class Adder:\n",
    "    def add(self, x, y):\n",
    "        print(\"Not Implemented\")\n",
    "        \n",
    "class ListAdder(Adder):\n",
    "    def add(self, x, y):\n",
    "        return x + y\n",
    "\n",
    "class DictAdder(Adder):\n",
    "    def add(self, x, y):\n",
    "        dic = dict(x, **y)\n",
    "        return dic        "
   ]
  },
  {
   "cell_type": "code",
   "execution_count": 2,
   "metadata": {},
   "outputs": [],
   "source": [
    "x, y, z = Adder(), ListAdder(), DictAdder()"
   ]
  },
  {
   "cell_type": "code",
   "execution_count": 4,
   "metadata": {},
   "outputs": [
    {
     "name": "stdout",
     "output_type": "stream",
     "text": [
      "Not Implemented\n"
     ]
    }
   ],
   "source": [
    "x.add(1,2)"
   ]
  },
  {
   "cell_type": "code",
   "execution_count": 5,
   "metadata": {},
   "outputs": [
    {
     "data": {
      "text/plain": [
       "[1, 2, 3, 4]"
      ]
     },
     "execution_count": 5,
     "metadata": {},
     "output_type": "execute_result"
    }
   ],
   "source": [
    "y.add([1,2], [3,4])"
   ]
  },
  {
   "cell_type": "code",
   "execution_count": 7,
   "metadata": {},
   "outputs": [
    {
     "data": {
      "text/plain": [
       "{'a': 2, 'b': 3}"
      ]
     },
     "execution_count": 7,
     "metadata": {},
     "output_type": "execute_result"
    }
   ],
   "source": [
    "z.add({'a':2},{'b':3})"
   ]
  },
  {
   "cell_type": "markdown",
   "metadata": {},
   "source": [
    "Maybe the class ***Adder*** is the best place."
   ]
  },
  {
   "cell_type": "code",
   "execution_count": 37,
   "metadata": {},
   "outputs": [
    {
     "name": "stdin",
     "output_type": "stream",
     "text": [
      "Once deleted, variables cannot be recovered. Proceed (y/[n])?  y\n"
     ]
    }
   ],
   "source": [
    "reset"
   ]
  },
  {
   "cell_type": "code",
   "execution_count": 38,
   "metadata": {},
   "outputs": [],
   "source": [
    "class Adder:\n",
    "    def __init__(self, data):\n",
    "        self.data = data\n",
    "    def add(self, x, y):\n",
    "        return x + y\n",
    "    def __add__(self, Y):\n",
    "        self.add(self.data, Y)\n",
    "\n",
    "class ListAdder(Adder):\n",
    "    def add(self, x, y):\n",
    "        x.extend(y)\n",
    "        return x\n",
    "    def __add__(self, Y):\n",
    "        self.add(self.data, Y)    \n",
    "\n",
    "class DictAdder(Adder):\n",
    "    def add(self, x, y):\n",
    "        return dict(x, **y)\n",
    "    def __add__(self, Y):\n",
    "        self.add(self.data, Y)\n",
    "        "
   ]
  },
  {
   "cell_type": "markdown",
   "metadata": {},
   "source": [
    "Yes, maybe it is easy to code methods to accept just one real argument"
   ]
  },
  {
   "cell_type": "code",
   "execution_count": 39,
   "metadata": {},
   "outputs": [],
   "source": [
    "x, y, z = Adder(1), ListAdder([1,2]), DictAdder({'a':2})"
   ]
  },
  {
   "cell_type": "code",
   "execution_count": 40,
   "metadata": {},
   "outputs": [
    {
     "data": {
      "text/plain": [
       "3"
      ]
     },
     "execution_count": 40,
     "metadata": {},
     "output_type": "execute_result"
    }
   ],
   "source": [
    "x.add(1,2)"
   ]
  },
  {
   "cell_type": "code",
   "execution_count": 41,
   "metadata": {},
   "outputs": [
    {
     "name": "stdout",
     "output_type": "stream",
     "text": [
      "None\n"
     ]
    }
   ],
   "source": [
    "print(x + 1)"
   ]
  },
  {
   "cell_type": "code",
   "execution_count": 42,
   "metadata": {},
   "outputs": [
    {
     "name": "stdout",
     "output_type": "stream",
     "text": [
      "None\n"
     ]
    }
   ],
   "source": [
    "print(y + [1,3])"
   ]
  },
  {
   "cell_type": "code",
   "execution_count": 43,
   "metadata": {},
   "outputs": [
    {
     "name": "stdout",
     "output_type": "stream",
     "text": [
      "None\n"
     ]
    }
   ],
   "source": [
    "print(z + {'b':1})"
   ]
  },
  {
   "cell_type": "code",
   "execution_count": 44,
   "metadata": {},
   "outputs": [
    {
     "name": "stdout",
     "output_type": "stream",
     "text": [
      "<__main__.DictAdder object at 0x0000026E9D704F98>\n"
     ]
    }
   ],
   "source": [
    "print(z)"
   ]
  },
  {
   "cell_type": "markdown",
   "metadata": {},
   "source": [
    "## 2."
   ]
  },
  {
   "cell_type": "code",
   "execution_count": 49,
   "metadata": {},
   "outputs": [],
   "source": [
    "class MyList(list):\n",
    "    def __init__(self, mylist):\n",
    "        list.__init__(self, myself)\n",
    "    def __add__(self, mylist):\n",
    "        list.__add__(self, mylist)\n",
    "    def append(self, x):\n",
    "        list.append(self, x)\n",
    "    def extend(self, mylist):\n",
    "        list.extend(self, mylist)\n",
    "    def insert(self, i, x):\n",
    "        list.insert(self, i, x)\n",
    "    def remove(self, x):\n",
    "        list.remove(self, x)\n",
    "    def pop(self, i=None):\n",
    "        if not i:\n",
    "            list.pop(self, i)\n",
    "        else:\n",
    "            list.pop(self)\n",
    "    def clear(self):\n",
    "        list.clear(self)\n",
    "    def count(self, x):\n",
    "        list.count(self, x)\n",
    "    def reverse(self):\n",
    "        list.reverse(self)\n",
    "    def sort(self, key=None, reverse=False):\n",
    "        list.sort(self, key, reverse)\n",
    "    def copy(self):\n",
    "        list.copy(self)       \n",
    "    def __getitem__(self, index):\n",
    "        list.__getitem__(self, index)\n",
    "    def __setitem__(self, i, x):\n",
    "        list.__setitem__(self, i, x)\n",
    "    def __str__(self):\n",
    "        list.__str__(self)\n",
    "        "
   ]
  },
  {
   "cell_type": "markdown",
   "metadata": {},
   "source": [
    "## 3."
   ]
  },
  {
   "cell_type": "code",
   "execution_count": 195,
   "metadata": {},
   "outputs": [],
   "source": [
    "class MyList:\n",
    "    def __init__(self, start):\n",
    "        self.wrapped = list(start)\n",
    "    def __add__(self, other):\n",
    "        return MyList(self.wrapped + other)\n",
    "    def __mul__(self, time):\n",
    "        return MyList(self.wrapped * time)\n",
    "    def __getitem__(self, offset):\n",
    "        return self.wrapped[offset]\n",
    "    def __len__(self):\n",
    "        return len(self.wrapped)\n",
    "    def __getslice__(self, low, high):\n",
    "        return MyList(self.wrapped[low:high])\n",
    "    def append(self, node):\n",
    "        self.wrapped.append(node)\n",
    "    def __getattr__(self, name):\n",
    "        return getattr(self.wrapped, name)\n",
    "    def __repr__(self):\n",
    "        return repr(self.wrapped)"
   ]
  },
  {
   "cell_type": "code",
   "execution_count": 196,
   "metadata": {},
   "outputs": [],
   "source": [
    "class MyListSub(MyList):\n",
    "    calls = 0\n",
    "    def __init__(self, start):\n",
    "        self.adds = 0\n",
    "        MyList.__init__(self, start)\n",
    "    def __add__(self, other):\n",
    "        print('add: ' + str(other))\n",
    "        MyListSub.calls += 1\n",
    "        self.adds += 1\n",
    "        return MyList.__add__(self, other)\n",
    "    def stats(self):\n",
    "        return self.calls, self.adds"
   ]
  },
  {
   "cell_type": "code",
   "execution_count": 197,
   "metadata": {},
   "outputs": [],
   "source": [
    "x = MyListSub('spam')\n",
    "y = MyListSub('foo')"
   ]
  },
  {
   "cell_type": "code",
   "execution_count": 198,
   "metadata": {},
   "outputs": [
    {
     "name": "stdout",
     "output_type": "stream",
     "text": [
      "a\n"
     ]
    }
   ],
   "source": [
    "print(x[2])"
   ]
  },
  {
   "cell_type": "code",
   "execution_count": 199,
   "metadata": {},
   "outputs": [
    {
     "name": "stdout",
     "output_type": "stream",
     "text": [
      "['p', 'a', 'm']\n"
     ]
    }
   ],
   "source": [
    "print(x[1:])"
   ]
  },
  {
   "cell_type": "code",
   "execution_count": 200,
   "metadata": {},
   "outputs": [
    {
     "name": "stdout",
     "output_type": "stream",
     "text": [
      "add: ['eggs']\n",
      "['s', 'p', 'a', 'm', 'eggs']\n",
      "add: ['toast']\n",
      "['s', 'p', 'a', 'm', 'toast']\n",
      "add: ['bar']\n",
      "['f', 'o', 'o', 'bar']\n",
      "(3, 2)\n"
     ]
    }
   ],
   "source": [
    "print(x + ['eggs'])\n",
    "print(x + ['toast'])\n",
    "print(y + ['bar'])\n",
    "print(x.stats())"
   ]
  },
  {
   "cell_type": "markdown",
   "metadata": {},
   "source": [
    "## 4. "
   ]
  },
  {
   "cell_type": "code",
   "execution_count": 183,
   "metadata": {},
   "outputs": [
    {
     "name": "stdin",
     "output_type": "stream",
     "text": [
      "Once deleted, variables cannot be recovered. Proceed (y/[n])?  y\n"
     ]
    }
   ],
   "source": [
    "reset"
   ]
  },
  {
   "cell_type": "code",
   "execution_count": 1,
   "metadata": {},
   "outputs": [],
   "source": [
    "class Attr:\n",
    "    def __init__(self, data=0):\n",
    "        self.data = data\n",
    "    def __add__(self, avlue):\n",
    "        print(value)\n",
    "    def __getattribute__(self, value):\n",
    "        print(value)\n",
    "    def __getitem__(self, value):\n",
    "        print(value)\n",
    "    def __getattr__(self, value):\n",
    "        print(value)\n",
    "    def __setattr__(self, attr, value):\n",
    "        if attr == 'data':\n",
    "            self.__dict__[attr] = value\n",
    "            print(value)\n",
    "        else:\n",
    "            print(\"no attribution\")\n",
    "    def __setitem__(self, attr, value):\n",
    "        if attr == 'data':\n",
    "            self.__dict__[attr] = value\n",
    "            print(value)\n",
    "        else:\n",
    "            print(\"no attribution\")\n",
    "        "
   ]
  },
  {
   "cell_type": "code",
   "execution_count": 2,
   "metadata": {},
   "outputs": [
    {
     "name": "stdout",
     "output_type": "stream",
     "text": [
      "__dict__\n"
     ]
    },
    {
     "ename": "TypeError",
     "evalue": "'NoneType' object does not support item assignment",
     "output_type": "error",
     "traceback": [
      "\u001b[1;31m---------------------------------------------------------------------------\u001b[0m",
      "\u001b[1;31mTypeError\u001b[0m                                 Traceback (most recent call last)",
      "\u001b[1;32m<ipython-input-2-293d3ca845ad>\u001b[0m in \u001b[0;36m<module>\u001b[1;34m\u001b[0m\n\u001b[1;32m----> 1\u001b[1;33m \u001b[0mone\u001b[0m \u001b[1;33m=\u001b[0m \u001b[0mAttr\u001b[0m\u001b[1;33m(\u001b[0m\u001b[1;33m[\u001b[0m\u001b[1;36m2\u001b[0m\u001b[1;33m,\u001b[0m\u001b[1;36m3\u001b[0m\u001b[1;33m]\u001b[0m\u001b[1;33m)\u001b[0m\u001b[1;33m\u001b[0m\u001b[1;33m\u001b[0m\u001b[0m\n\u001b[0m",
      "\u001b[1;32m<ipython-input-1-9733250238d0>\u001b[0m in \u001b[0;36m__init__\u001b[1;34m(self, data)\u001b[0m\n\u001b[0;32m      1\u001b[0m \u001b[1;32mclass\u001b[0m \u001b[0mAttr\u001b[0m\u001b[1;33m:\u001b[0m\u001b[1;33m\u001b[0m\u001b[1;33m\u001b[0m\u001b[0m\n\u001b[0;32m      2\u001b[0m     \u001b[1;32mdef\u001b[0m \u001b[0m__init__\u001b[0m\u001b[1;33m(\u001b[0m\u001b[0mself\u001b[0m\u001b[1;33m,\u001b[0m \u001b[0mdata\u001b[0m\u001b[1;33m=\u001b[0m\u001b[1;36m0\u001b[0m\u001b[1;33m)\u001b[0m\u001b[1;33m:\u001b[0m\u001b[1;33m\u001b[0m\u001b[1;33m\u001b[0m\u001b[0m\n\u001b[1;32m----> 3\u001b[1;33m         \u001b[0mself\u001b[0m\u001b[1;33m.\u001b[0m\u001b[0mdata\u001b[0m \u001b[1;33m=\u001b[0m \u001b[0mdata\u001b[0m\u001b[1;33m\u001b[0m\u001b[1;33m\u001b[0m\u001b[0m\n\u001b[0m\u001b[0;32m      4\u001b[0m     \u001b[1;32mdef\u001b[0m \u001b[0m__add__\u001b[0m\u001b[1;33m(\u001b[0m\u001b[0mself\u001b[0m\u001b[1;33m,\u001b[0m \u001b[0mavlue\u001b[0m\u001b[1;33m)\u001b[0m\u001b[1;33m:\u001b[0m\u001b[1;33m\u001b[0m\u001b[1;33m\u001b[0m\u001b[0m\n\u001b[0;32m      5\u001b[0m         \u001b[0mprint\u001b[0m\u001b[1;33m(\u001b[0m\u001b[0mvalue\u001b[0m\u001b[1;33m)\u001b[0m\u001b[1;33m\u001b[0m\u001b[1;33m\u001b[0m\u001b[0m\n",
      "\u001b[1;32m<ipython-input-1-9733250238d0>\u001b[0m in \u001b[0;36m__setattr__\u001b[1;34m(self, attr, value)\u001b[0m\n\u001b[0;32m     12\u001b[0m     \u001b[1;32mdef\u001b[0m \u001b[0m__setattr__\u001b[0m\u001b[1;33m(\u001b[0m\u001b[0mself\u001b[0m\u001b[1;33m,\u001b[0m \u001b[0mattr\u001b[0m\u001b[1;33m,\u001b[0m \u001b[0mvalue\u001b[0m\u001b[1;33m)\u001b[0m\u001b[1;33m:\u001b[0m\u001b[1;33m\u001b[0m\u001b[1;33m\u001b[0m\u001b[0m\n\u001b[0;32m     13\u001b[0m         \u001b[1;32mif\u001b[0m \u001b[0mattr\u001b[0m \u001b[1;33m==\u001b[0m \u001b[1;34m'data'\u001b[0m\u001b[1;33m:\u001b[0m\u001b[1;33m\u001b[0m\u001b[1;33m\u001b[0m\u001b[0m\n\u001b[1;32m---> 14\u001b[1;33m             \u001b[0mself\u001b[0m\u001b[1;33m.\u001b[0m\u001b[0m__dict__\u001b[0m\u001b[1;33m[\u001b[0m\u001b[0mattr\u001b[0m\u001b[1;33m]\u001b[0m \u001b[1;33m=\u001b[0m \u001b[0mvalue\u001b[0m\u001b[1;33m\u001b[0m\u001b[1;33m\u001b[0m\u001b[0m\n\u001b[0m\u001b[0;32m     15\u001b[0m             \u001b[0mprint\u001b[0m\u001b[1;33m(\u001b[0m\u001b[0mvalue\u001b[0m\u001b[1;33m)\u001b[0m\u001b[1;33m\u001b[0m\u001b[1;33m\u001b[0m\u001b[0m\n\u001b[0;32m     16\u001b[0m         \u001b[1;32melse\u001b[0m\u001b[1;33m:\u001b[0m\u001b[1;33m\u001b[0m\u001b[1;33m\u001b[0m\u001b[0m\n",
      "\u001b[1;31mTypeError\u001b[0m: 'NoneType' object does not support item assignment"
     ]
    }
   ],
   "source": [
    "one = Attr([2,3])"
   ]
  },
  {
   "cell_type": "code",
   "execution_count": null,
   "metadata": {},
   "outputs": [],
   "source": []
  },
  {
   "cell_type": "markdown",
   "metadata": {},
   "source": [
    "## 5."
   ]
  },
  {
   "cell_type": "code",
   "execution_count": 159,
   "metadata": {},
   "outputs": [],
   "source": [
    "class Set:\n",
    "    def __init__(self, value = []):\n",
    "        print(\"init\")\n",
    "        self.data = []\n",
    "        self.concat(value)\n",
    "\n",
    "    def intersect(self, *others):\n",
    "        print(\"intersect\")\n",
    "        res = []\n",
    "        for x in self.data:\n",
    "            flag = True\n",
    "            for other in others:\n",
    "                if x not in other:\n",
    "                    flag = False\n",
    "            if flag:\n",
    "                res.append(x)\n",
    "        return Set(res)\n",
    "    \n",
    "    def union(self, *others):\n",
    "        print(\"union\")\n",
    "        res = self.data[:]\n",
    "        for other in others:\n",
    "            for x in other:\n",
    "                if not x in res:\n",
    "                    res.append(x)\n",
    "        return Set(res)\n",
    "    \n",
    "    def concat(self, value):\n",
    "        print(\"concat\")\n",
    "        for x in value:\n",
    "            if not x in self.data:\n",
    "                self.data.append(x)\n",
    "    \n",
    "    def add(self, other):\n",
    "        return self.data.extend(other)\n",
    "                \n",
    "    def __len__(self):\n",
    "        print(\"__len__\")\n",
    "        return len(self.data)\n",
    "    def __getitem__(self, key):\n",
    "        print(\"__getitem__\")\n",
    "        return self.data[key]\n",
    "    def __and__(self, other): \n",
    "        print(\"__and__\")\n",
    "        return self.intersect(other)\n",
    "    def __or__(self, other):\n",
    "        print(\"__or__\")\n",
    "        return self.union(other)\n",
    "    def __repr__(self):\n",
    "        print(\"__repr__\")\n",
    "        return 'Set:' + repr(self.data)\n",
    "    def __iter__(self):\n",
    "        print(\"__iter__\")\n",
    "        return iter(self.data)\n",
    "    def __add__(self, other):\n",
    "        print(\"__add__\")\n",
    "        return self.add(other)\n",
    "    def __getattr__(self, attrname, value):\n",
    "        if attrname == 'append':\n",
    "            self.data.append(value)\n",
    "        else:\n",
    "            raise AttributeError(attrname)"
   ]
  },
  {
   "cell_type": "code",
   "execution_count": 160,
   "metadata": {},
   "outputs": [
    {
     "name": "stdout",
     "output_type": "stream",
     "text": [
      "init\n",
      "concat\n",
      "init\n",
      "concat\n"
     ]
    }
   ],
   "source": [
    "A = Set([1,2])\n",
    "B = Set([2,3])"
   ]
  },
  {
   "cell_type": "code",
   "execution_count": 142,
   "metadata": {},
   "outputs": [
    {
     "name": "stdout",
     "output_type": "stream",
     "text": [
      "__and__\n",
      "intersect\n",
      "__iter__\n",
      "__iter__\n",
      "init\n",
      "concat\n",
      "__repr__\n"
     ]
    },
    {
     "data": {
      "text/plain": [
       "Set:[2]"
      ]
     },
     "execution_count": 142,
     "metadata": {},
     "output_type": "execute_result"
    }
   ],
   "source": [
    "A & B"
   ]
  },
  {
   "cell_type": "code",
   "execution_count": 143,
   "metadata": {},
   "outputs": [
    {
     "name": "stdout",
     "output_type": "stream",
     "text": [
      "__or__\n",
      "union\n",
      "__iter__\n",
      "init\n",
      "concat\n",
      "__repr__\n"
     ]
    },
    {
     "data": {
      "text/plain": [
       "Set:[1, 2, 3]"
      ]
     },
     "execution_count": 143,
     "metadata": {},
     "output_type": "execute_result"
    }
   ],
   "source": [
    "A | B"
   ]
  },
  {
   "cell_type": "code",
   "execution_count": 144,
   "metadata": {},
   "outputs": [
    {
     "name": "stdout",
     "output_type": "stream",
     "text": [
      "init\n",
      "concat\n"
     ]
    }
   ],
   "source": [
    "C = Set(\"this\")"
   ]
  },
  {
   "cell_type": "code",
   "execution_count": 145,
   "metadata": {},
   "outputs": [
    {
     "name": "stdout",
     "output_type": "stream",
     "text": [
      "__getitem__\n"
     ]
    },
    {
     "data": {
      "text/plain": [
       "'h'"
      ]
     },
     "execution_count": 145,
     "metadata": {},
     "output_type": "execute_result"
    }
   ],
   "source": [
    "C[1]"
   ]
  },
  {
   "cell_type": "code",
   "execution_count": 146,
   "metadata": {},
   "outputs": [],
   "source": [
    "c = \"that\""
   ]
  },
  {
   "cell_type": "code",
   "execution_count": 147,
   "metadata": {},
   "outputs": [
    {
     "name": "stdout",
     "output_type": "stream",
     "text": [
      "__and__\n",
      "intersect\n",
      "init\n",
      "concat\n",
      "__repr__\n"
     ]
    },
    {
     "data": {
      "text/plain": [
       "Set:['t', 'h']"
      ]
     },
     "execution_count": 147,
     "metadata": {},
     "output_type": "execute_result"
    }
   ],
   "source": [
    "C & c"
   ]
  },
  {
   "cell_type": "code",
   "execution_count": 148,
   "metadata": {},
   "outputs": [
    {
     "name": "stdout",
     "output_type": "stream",
     "text": [
      "__or__\n",
      "union\n",
      "init\n",
      "concat\n",
      "__repr__\n"
     ]
    },
    {
     "data": {
      "text/plain": [
       "Set:['t', 'h', 'i', 's', 'a']"
      ]
     },
     "execution_count": 148,
     "metadata": {},
     "output_type": "execute_result"
    }
   ],
   "source": [
    "C | c"
   ]
  },
  {
   "cell_type": "code",
   "execution_count": 149,
   "metadata": {},
   "outputs": [
    {
     "name": "stdout",
     "output_type": "stream",
     "text": [
      "init\n",
      "concat\n"
     ]
    }
   ],
   "source": [
    "D = Set([2,3,4])"
   ]
  },
  {
   "cell_type": "code",
   "execution_count": 152,
   "metadata": {},
   "outputs": [
    {
     "name": "stdout",
     "output_type": "stream",
     "text": [
      "__and__\n",
      "intersect\n",
      "__iter__\n",
      "__iter__\n",
      "init\n",
      "concat\n",
      "__and__\n",
      "intersect\n",
      "__iter__\n",
      "init\n",
      "concat\n",
      "__repr__\n"
     ]
    },
    {
     "data": {
      "text/plain": [
       "Set:[2]"
      ]
     },
     "execution_count": 152,
     "metadata": {},
     "output_type": "execute_result"
    }
   ],
   "source": [
    "A & B & D"
   ]
  },
  {
   "cell_type": "markdown",
   "metadata": {},
   "source": [
    "nothing to worry, because the computational order is from left to right"
   ]
  },
  {
   "cell_type": "code",
   "execution_count": 161,
   "metadata": {},
   "outputs": [
    {
     "name": "stdout",
     "output_type": "stream",
     "text": [
      "__add__\n",
      "__iter__\n",
      "__len__\n"
     ]
    }
   ],
   "source": [
    "A + B"
   ]
  },
  {
   "cell_type": "code",
   "execution_count": 162,
   "metadata": {},
   "outputs": [
    {
     "name": "stdout",
     "output_type": "stream",
     "text": [
      "__repr__\n"
     ]
    },
    {
     "data": {
      "text/plain": [
       "Set:[1, 2, 2, 3]"
      ]
     },
     "execution_count": 162,
     "metadata": {},
     "output_type": "execute_result"
    }
   ],
   "source": [
    "A"
   ]
  },
  {
   "cell_type": "code",
   "execution_count": 163,
   "metadata": {},
   "outputs": [
    {
     "ename": "TypeError",
     "evalue": "__getattr__() missing 1 required positional argument: 'value'",
     "output_type": "error",
     "traceback": [
      "\u001b[1;31m---------------------------------------------------------------------------\u001b[0m",
      "\u001b[1;31mTypeError\u001b[0m                                 Traceback (most recent call last)",
      "\u001b[1;32m<ipython-input-163-e1f756f60b3e>\u001b[0m in \u001b[0;36m<module>\u001b[1;34m\u001b[0m\n\u001b[1;32m----> 1\u001b[1;33m \u001b[0mA\u001b[0m\u001b[1;33m.\u001b[0m\u001b[0mappend\u001b[0m\u001b[1;33m(\u001b[0m\u001b[1;36m5\u001b[0m\u001b[1;33m)\u001b[0m\u001b[1;33m\u001b[0m\u001b[1;33m\u001b[0m\u001b[0m\n\u001b[0m",
      "\u001b[1;31mTypeError\u001b[0m: __getattr__() missing 1 required positional argument: 'value'"
     ]
    }
   ],
   "source": [
    "A.append(5)"
   ]
  },
  {
   "cell_type": "code",
   "execution_count": null,
   "metadata": {},
   "outputs": [],
   "source": []
  },
  {
   "cell_type": "markdown",
   "metadata": {},
   "source": [
    "## 6."
   ]
  },
  {
   "cell_type": "code",
   "execution_count": null,
   "metadata": {},
   "outputs": [],
   "source": []
  },
  {
   "cell_type": "code",
   "execution_count": null,
   "metadata": {},
   "outputs": [],
   "source": []
  },
  {
   "cell_type": "code",
   "execution_count": null,
   "metadata": {},
   "outputs": [],
   "source": []
  },
  {
   "cell_type": "code",
   "execution_count": null,
   "metadata": {},
   "outputs": [],
   "source": []
  },
  {
   "cell_type": "code",
   "execution_count": null,
   "metadata": {},
   "outputs": [],
   "source": []
  },
  {
   "cell_type": "markdown",
   "metadata": {},
   "source": [
    "## 7."
   ]
  },
  {
   "cell_type": "code",
   "execution_count": 176,
   "metadata": {},
   "outputs": [
    {
     "name": "stdin",
     "output_type": "stream",
     "text": [
      "Once deleted, variables cannot be recovered. Proceed (y/[n])?  y\n"
     ]
    }
   ],
   "source": [
    "reset"
   ]
  },
  {
   "cell_type": "code",
   "execution_count": 177,
   "metadata": {},
   "outputs": [],
   "source": [
    "class Lunch:\n",
    "    def __init__(self):\n",
    "        self.customer = Customer()\n",
    "        self.employee = Employee()\n",
    "    def order(self, foodName):\n",
    "        self.customer.placeOrder(foodName, self.employee)\n",
    "    def result(self):\n",
    "        self.customer.printFood()\n",
    "\n",
    "class Customer:\n",
    "    def __init__(self):\n",
    "        self.food = Food(None)\n",
    "        #self.food = None\n",
    "    def placeOrder(self, foodName, employee):\n",
    "        self.food = foodName\n",
    "        employee.takeOrder(foodName)\n",
    "        #self.food = employee.takeOrder(foodName)\n",
    "    def printFood(self):\n",
    "        print(self.food)\n",
    "        #print(self.food.name)\n",
    "        \n",
    "class Employee:\n",
    "    def takeOrder(self, foodName):\n",
    "        return foodName\n",
    "        #return Food(foodName)\n",
    "    \n",
    "class Food:\n",
    "    def __init__(self, name):\n",
    "        self.name = name"
   ]
  },
  {
   "cell_type": "code",
   "execution_count": 178,
   "metadata": {},
   "outputs": [],
   "source": [
    "lunch = Lunch()"
   ]
  },
  {
   "cell_type": "code",
   "execution_count": 179,
   "metadata": {},
   "outputs": [],
   "source": [
    "lunch.order(\"pizza\")"
   ]
  },
  {
   "cell_type": "code",
   "execution_count": 180,
   "metadata": {},
   "outputs": [
    {
     "name": "stdout",
     "output_type": "stream",
     "text": [
      "pizza\n"
     ]
    }
   ],
   "source": [
    "lunch.result()"
   ]
  },
  {
   "cell_type": "code",
   "execution_count": 181,
   "metadata": {},
   "outputs": [],
   "source": [
    "lunch.order(\"potato\")"
   ]
  },
  {
   "cell_type": "code",
   "execution_count": 182,
   "metadata": {},
   "outputs": [
    {
     "name": "stdout",
     "output_type": "stream",
     "text": [
      "potato\n"
     ]
    }
   ],
   "source": [
    "lunch.result()"
   ]
  },
  {
   "cell_type": "markdown",
   "metadata": {},
   "source": [
    "we should add a new method *ask* in class Employee"
   ]
  },
  {
   "cell_type": "markdown",
   "metadata": {},
   "source": [
    "## 8."
   ]
  },
  {
   "cell_type": "code",
   "execution_count": 52,
   "metadata": {},
   "outputs": [],
   "source": [
    "class Animal:\n",
    "    def speak(self):\n",
    "        print(\"Animal\")\n",
    "    def reply(self):\n",
    "        self.speak()\n",
    "class Mammal(Animal):\n",
    "    def speak(self):\n",
    "        print(\"Mammal\")\n",
    "class Cat(Mammal):\n",
    "    def speak(self):\n",
    "        print(\"meow\")\n",
    "class Dog(Mammal):\n",
    "    def speak(self):\n",
    "        print(\"Dog\")\n",
    "class Primate(Mammal):\n",
    "    def speak(self):\n",
    "        print(\"Primate\")\n",
    "class Hacker(Mammal):\n",
    "    def speak(self):\n",
    "        print(\"Hello world!\")"
   ]
  },
  {
   "cell_type": "code",
   "execution_count": 53,
   "metadata": {},
   "outputs": [],
   "source": [
    "spot = Cat()"
   ]
  },
  {
   "cell_type": "code",
   "execution_count": 54,
   "metadata": {},
   "outputs": [
    {
     "name": "stdout",
     "output_type": "stream",
     "text": [
      "meow\n"
     ]
    }
   ],
   "source": [
    "spot.reply()"
   ]
  },
  {
   "cell_type": "code",
   "execution_count": 55,
   "metadata": {},
   "outputs": [],
   "source": [
    "data = Hacker()"
   ]
  },
  {
   "cell_type": "code",
   "execution_count": 56,
   "metadata": {},
   "outputs": [
    {
     "name": "stdout",
     "output_type": "stream",
     "text": [
      "Hello world!\n"
     ]
    }
   ],
   "source": [
    "data.reply()"
   ]
  },
  {
   "cell_type": "markdown",
   "metadata": {},
   "source": [
    "## 9."
   ]
  },
  {
   "cell_type": "code",
   "execution_count": 64,
   "metadata": {},
   "outputs": [],
   "source": [
    "class Customer:\n",
    "    def line(self):\n",
    "        print(\"customer: \\\"that\\'s one ex-bird!\\\"\")\n",
    "class Clerk:\n",
    "    def line(self):\n",
    "        print(\"clerk: \\\"no it isn\\'t...\\\"\")\n",
    "class Parrot:\n",
    "    def line(self):\n",
    "        print(\"parrot: None\")\n",
    "class Scene:\n",
    "    def action(self):\n",
    "        Customer().line()\n",
    "        Clerk().line()\n",
    "        Parrot().line()\n",
    "        "
   ]
  },
  {
   "cell_type": "code",
   "execution_count": 65,
   "metadata": {},
   "outputs": [
    {
     "name": "stdout",
     "output_type": "stream",
     "text": [
      "customer: \"that's one ex-bird!\"\n",
      "clerk: \"no it isn't...\"\n",
      "parrot: None\n"
     ]
    }
   ],
   "source": [
    "Scene().action()"
   ]
  },
  {
   "cell_type": "code",
   "execution_count": 193,
   "metadata": {},
   "outputs": [],
   "source": [
    "class Actor:\n",
    "    def line(self):\n",
    "        print(self.name + ':', repr(self.reply())) \n",
    "class Customer(Actor):\n",
    "    name = \"customer\"\n",
    "    def reply(self):\n",
    "        return \"That\\'s one ex-bird!\"\n",
    "class Clerk(Actor):\n",
    "    name = \"clerk\"\n",
    "    def reply(self):\n",
    "        return \"no it isn\\'t...\"\n",
    "class Parrot(Actor):\n",
    "    name = \"parrot\"\n",
    "    def reply(self):\n",
    "        return \"None\"\n",
    "class Scene:\n",
    "    def __init__(self):\n",
    "        self.customer = Customer()\n",
    "        self.clerk = Clerk()\n",
    "        self.parrot = Parrot()\n",
    "    def action(self):\n",
    "        self.customer.line()\n",
    "        self.clerk.line()\n",
    "        self.parrot.line()"
   ]
  },
  {
   "cell_type": "code",
   "execution_count": 194,
   "metadata": {},
   "outputs": [
    {
     "name": "stdout",
     "output_type": "stream",
     "text": [
      "customer: \"That's one ex-bird!\"\n",
      "clerk: \"no it isn't...\"\n",
      "parrot: 'None'\n"
     ]
    }
   ],
   "source": [
    "Scene().action()"
   ]
  },
  {
   "cell_type": "markdown",
   "metadata": {},
   "source": [
    "Why is one single quotation mark while another double quotation mark?"
   ]
  },
  {
   "cell_type": "code",
   "execution_count": null,
   "metadata": {},
   "outputs": [],
   "source": []
  },
  {
   "cell_type": "code",
   "execution_count": null,
   "metadata": {},
   "outputs": [],
   "source": []
  },
  {
   "cell_type": "code",
   "execution_count": null,
   "metadata": {},
   "outputs": [],
   "source": []
  },
  {
   "cell_type": "code",
   "execution_count": null,
   "metadata": {},
   "outputs": [],
   "source": []
  }
 ],
 "metadata": {
  "kernelspec": {
   "display_name": "Python 3",
   "language": "python",
   "name": "python3"
  },
  "language_info": {
   "codemirror_mode": {
    "name": "ipython",
    "version": 3
   },
   "file_extension": ".py",
   "mimetype": "text/x-python",
   "name": "python",
   "nbconvert_exporter": "python",
   "pygments_lexer": "ipython3",
   "version": "3.7.3"
  }
 },
 "nbformat": 4,
 "nbformat_minor": 2
}
