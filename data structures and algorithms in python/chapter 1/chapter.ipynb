{
 "cells": [
  {
   "cell_type": "markdown",
   "metadata": {},
   "source": [
    "# chapter 1"
   ]
  },
  {
   "cell_type": "markdown",
   "metadata": {},
   "source": [
    "## R-1.1"
   ]
  },
  {
   "cell_type": "code",
   "execution_count": 1,
   "metadata": {},
   "outputs": [],
   "source": [
    "def is_multiple(n,m):\n",
    "    if n % m == 0:\n",
    "        return True\n",
    "    else:\n",
    "        return False"
   ]
  },
  {
   "cell_type": "markdown",
   "metadata": {},
   "source": [
    "## R-1.2"
   ]
  },
  {
   "cell_type": "code",
   "execution_count": 2,
   "metadata": {},
   "outputs": [],
   "source": [
    "def is_even(k):\n",
    "    if k - (k>>2) == (k>>2):\n",
    "        return True\n",
    "    else:\n",
    "        return False"
   ]
  },
  {
   "cell_type": "markdown",
   "metadata": {},
   "source": [
    "## R-1.3"
   ]
  },
  {
   "cell_type": "code",
   "execution_count": 3,
   "metadata": {},
   "outputs": [],
   "source": [
    "def minmax(data):\n",
    "    min_ = max_ = data[0]\n",
    "    for item in data:\n",
    "        if item < min_:\n",
    "            min_ = item\n",
    "        if item > max_:\n",
    "            max_ = item\n",
    "    return min_, max_"
   ]
  },
  {
   "cell_type": "markdown",
   "metadata": {},
   "source": [
    "## R-1.4"
   ]
  },
  {
   "cell_type": "code",
   "execution_count": 4,
   "metadata": {},
   "outputs": [],
   "source": [
    "def Sum_Square(n):\n",
    "    sum_ = 0\n",
    "    for i in range(n):\n",
    "        sum_ += i*i\n",
    "    return sum_"
   ]
  },
  {
   "cell_type": "markdown",
   "metadata": {},
   "source": [
    "## R-1.5"
   ]
  },
  {
   "cell_type": "code",
   "execution_count": 7,
   "metadata": {},
   "outputs": [
    {
     "data": {
      "text/plain": [
       "285"
      ]
     },
     "execution_count": 7,
     "metadata": {},
     "output_type": "execute_result"
    }
   ],
   "source": [
    "n = 10\n",
    "sum(i*i for i in range(n))"
   ]
  },
  {
   "cell_type": "markdown",
   "metadata": {},
   "source": [
    "## R-1.6"
   ]
  },
  {
   "cell_type": "code",
   "execution_count": 8,
   "metadata": {},
   "outputs": [],
   "source": [
    "def Sum_Odd_Square(n):\n",
    "    sum_ = 0\n",
    "    for i in range(1, n, 2):\n",
    "        sum_ += i*i\n",
    "    return sum"
   ]
  },
  {
   "cell_type": "markdown",
   "metadata": {},
   "source": [
    "## R-1.7"
   ]
  },
  {
   "cell_type": "code",
   "execution_count": 9,
   "metadata": {},
   "outputs": [
    {
     "data": {
      "text/plain": [
       "165"
      ]
     },
     "execution_count": 9,
     "metadata": {},
     "output_type": "execute_result"
    }
   ],
   "source": [
    "sum(i*i for i in range(1, n, 2))"
   ]
  },
  {
   "cell_type": "markdown",
   "metadata": {},
   "source": [
    "## R-1.8"
   ]
  },
  {
   "cell_type": "markdown",
   "metadata": {},
   "source": [
    "j = n + k"
   ]
  },
  {
   "cell_type": "markdown",
   "metadata": {},
   "source": [
    "## R-1.9"
   ]
  },
  {
   "cell_type": "code",
   "execution_count": 11,
   "metadata": {},
   "outputs": [
    {
     "data": {
      "text/plain": [
       "[50, 60, 70, 80]"
      ]
     },
     "execution_count": 11,
     "metadata": {},
     "output_type": "execute_result"
    }
   ],
   "source": [
    "list(range(50, 90, 10))"
   ]
  },
  {
   "cell_type": "markdown",
   "metadata": {},
   "source": [
    "## R-1.10"
   ]
  },
  {
   "cell_type": "code",
   "execution_count": 12,
   "metadata": {},
   "outputs": [
    {
     "data": {
      "text/plain": [
       "[8, 6, 4, 2, 0, -2, -4, -6, -8]"
      ]
     },
     "execution_count": 12,
     "metadata": {},
     "output_type": "execute_result"
    }
   ],
   "source": [
    "list(range(8, -10, -2))"
   ]
  },
  {
   "cell_type": "markdown",
   "metadata": {},
   "source": [
    "## R-1.11"
   ]
  },
  {
   "cell_type": "code",
   "execution_count": 13,
   "metadata": {},
   "outputs": [
    {
     "data": {
      "text/plain": [
       "[1, 2, 4, 8, 16, 32, 64, 128, 256]"
      ]
     },
     "execution_count": 13,
     "metadata": {},
     "output_type": "execute_result"
    }
   ],
   "source": [
    "[2**i for i in range(9)]"
   ]
  },
  {
   "cell_type": "markdown",
   "metadata": {},
   "source": [
    "## R-1.12"
   ]
  },
  {
   "cell_type": "code",
   "execution_count": 15,
   "metadata": {},
   "outputs": [],
   "source": [
    "from random import randrange\n",
    "def My_Choice(data):\n",
    "    length = len(data)\n",
    "    index = randrange(length)\n",
    "    return data[index]"
   ]
  },
  {
   "cell_type": "code",
   "execution_count": 16,
   "metadata": {},
   "outputs": [],
   "source": [
    "data = [1, 3, 4, 5]"
   ]
  },
  {
   "cell_type": "code",
   "execution_count": 17,
   "metadata": {},
   "outputs": [
    {
     "data": {
      "text/plain": [
       "3"
      ]
     },
     "execution_count": 17,
     "metadata": {},
     "output_type": "execute_result"
    }
   ],
   "source": [
    "My_Choice(data)"
   ]
  },
  {
   "cell_type": "markdown",
   "metadata": {},
   "source": [
    "## C-1.13"
   ]
  },
  {
   "cell_type": "markdown",
   "metadata": {},
   "source": [
    "The algorithm:  \n",
    "if n is even  \n",
    "\n",
    "    for i in range(n/2): \n",
    "        interchange list(i) and list(n-1)  \n",
    "else\n",
    "\n",
    "    for i in range((n-1)/2)  \n",
    "        interchange list(i) and list(n-1)  "
   ]
  },
  {
   "cell_type": "code",
   "execution_count": 6,
   "metadata": {},
   "outputs": [],
   "source": [
    "def My_Reverse(data):\n",
    "    n = len(data)\n",
    "    if n % 2 == 0:\n",
    "        for i in range(n//2):\n",
    "            a[i], a[n-i-1] = a[n-i-1], a[i]\n",
    "    else:\n",
    "        for i in range((n-1)//2):\n",
    "             a[i], a[n-i-1] = a[n-i-1], a[i]"
   ]
  },
  {
   "cell_type": "code",
   "execution_count": 7,
   "metadata": {},
   "outputs": [],
   "source": [
    "a = [1, 3, 4]\n",
    "My_Reverse(a)"
   ]
  },
  {
   "cell_type": "code",
   "execution_count": 8,
   "metadata": {},
   "outputs": [
    {
     "data": {
      "text/plain": [
       "[4, 3, 1]"
      ]
     },
     "execution_count": 8,
     "metadata": {},
     "output_type": "execute_result"
    }
   ],
   "source": [
    "a"
   ]
  },
  {
   "cell_type": "markdown",
   "metadata": {},
   "source": [
    "## C-1.14"
   ]
  },
  {
   "cell_type": "code",
   "execution_count": 10,
   "metadata": {},
   "outputs": [],
   "source": [
    "def Odd_Pair(data):\n",
    "    for item in data:\n",
    "        if item % 2 == 1:\n",
    "            odd1 = item\n",
    "    for item in data:\n",
    "        if item % 2 == 1 and item != odd1:\n",
    "            odd2 = item\n",
    "    if odd1 and odd2:\n",
    "        return True\n",
    "    else:\n",
    "        return False"
   ]
  },
  {
   "cell_type": "code",
   "execution_count": 11,
   "metadata": {},
   "outputs": [],
   "source": [
    "def Odd_Pair2(data):\n",
    "    for i in data:\n",
    "        if i % 2 == 1:\n",
    "            for j in data:\n",
    "                if j % 2 == 1 and j != i:\n",
    "                    return True\n",
    "    return False"
   ]
  },
  {
   "cell_type": "markdown",
   "metadata": {},
   "source": [
    "## C-1.15"
   ]
  },
  {
   "cell_type": "code",
   "execution_count": 12,
   "metadata": {},
   "outputs": [],
   "source": [
    "def Is_Distinct(data):\n",
    "    for i in data:\n",
    "        for j in data:\n",
    "            if i != j:\n",
    "                continue\n",
    "            else:\n",
    "                return False\n",
    "    return True"
   ]
  },
  {
   "cell_type": "markdown",
   "metadata": {},
   "source": [
    "## C-1.16"
   ]
  },
  {
   "cell_type": "markdown",
   "metadata": {},
   "source": [
    "Actually it create the new instance object and assign it with new identifer"
   ]
  },
  {
   "cell_type": "markdown",
   "metadata": {},
   "source": [
    "## C-1.17"
   ]
  },
  {
   "cell_type": "markdown",
   "metadata": {},
   "source": [
    "It doesn't work because the for is temporary variable and we can't refer it after the **for** loop"
   ]
  },
  {
   "cell_type": "markdown",
   "metadata": {},
   "source": [
    "## C-1.18"
   ]
  },
  {
   "cell_type": "code",
   "execution_count": 15,
   "metadata": {},
   "outputs": [
    {
     "data": {
      "text/plain": [
       "[0, 2, 6, 12, 20, 30, 42, 56, 72, 90]"
      ]
     },
     "execution_count": 15,
     "metadata": {},
     "output_type": "execute_result"
    }
   ],
   "source": [
    "list(i*(i+1) for i in range(10))"
   ]
  },
  {
   "cell_type": "markdown",
   "metadata": {},
   "source": [
    "## C-1.19"
   ]
  },
  {
   "cell_type": "code",
   "execution_count": 18,
   "metadata": {},
   "outputs": [
    {
     "data": {
      "text/plain": [
       "['a',\n",
       " 'b',\n",
       " 'c',\n",
       " 'd',\n",
       " 'e',\n",
       " 'f',\n",
       " 'g',\n",
       " 'h',\n",
       " 'i',\n",
       " 'j',\n",
       " 'k',\n",
       " 'l',\n",
       " 'm',\n",
       " 'n',\n",
       " 'o',\n",
       " 'p',\n",
       " 'q',\n",
       " 'r',\n",
       " 's',\n",
       " 't',\n",
       " 'u',\n",
       " 'v',\n",
       " 'w',\n",
       " 'x',\n",
       " 'y',\n",
       " 'z']"
      ]
     },
     "execution_count": 18,
     "metadata": {},
     "output_type": "execute_result"
    }
   ],
   "source": [
    "list(chr(i) for i in range(ord('a'), ord('a')+26))"
   ]
  },
  {
   "cell_type": "markdown",
   "metadata": {},
   "source": [
    "## C-1.20"
   ]
  },
  {
   "cell_type": "code",
   "execution_count": 28,
   "metadata": {},
   "outputs": [],
   "source": [
    "from random import randint\n",
    "def My_Shuffle(data):\n",
    "    length = len(data)\n",
    "    lis = []\n",
    "    while len(lis) != length:\n",
    "        index = randint(0, length-1)\n",
    "        if index not in lis:\n",
    "            lis.append(index)\n",
    "    new_lis = []\n",
    "    for i in range(length):\n",
    "        new_lis.append(data[lis[i]])\n",
    "    return new_lis"
   ]
  },
  {
   "cell_type": "code",
   "execution_count": 29,
   "metadata": {},
   "outputs": [],
   "source": [
    "a = [1,5,6,3,4]"
   ]
  },
  {
   "cell_type": "code",
   "execution_count": 30,
   "metadata": {},
   "outputs": [
    {
     "data": {
      "text/plain": [
       "[3, 5, 6, 1, 4]"
      ]
     },
     "execution_count": 30,
     "metadata": {},
     "output_type": "execute_result"
    }
   ],
   "source": [
    "My_Shuffle(a)"
   ]
  },
  {
   "cell_type": "markdown",
   "metadata": {},
   "source": [
    "but this code need improvement"
   ]
  },
  {
   "cell_type": "markdown",
   "metadata": {},
   "source": [
    "## C-1.21"
   ]
  },
  {
   "cell_type": "markdown",
   "metadata": {},
   "source": [
    "c-1.21.py"
   ]
  },
  {
   "cell_type": "markdown",
   "metadata": {},
   "source": [
    "## C-1.22"
   ]
  },
  {
   "cell_type": "code",
   "execution_count": 3,
   "metadata": {},
   "outputs": [],
   "source": [
    "def Dot_Product(a, b):\n",
    "    if len(a) == len(b):\n",
    "        c = [None] * len(a)\n",
    "        for i in range(len(a)):\n",
    "            c[i] = a[i] * b[i]\n",
    "        return c\n",
    "    else:\n",
    "        print(\"Error, the lenghts are different!\")"
   ]
  },
  {
   "cell_type": "code",
   "execution_count": 4,
   "metadata": {},
   "outputs": [
    {
     "data": {
      "text/plain": [
       "[3, 0, 6]"
      ]
     },
     "execution_count": 4,
     "metadata": {},
     "output_type": "execute_result"
    }
   ],
   "source": [
    "a = [1, 2, 3]\n",
    "b = [3, 0, 2]\n",
    "Dot_Product(a, b)"
   ]
  },
  {
   "cell_type": "markdown",
   "metadata": {},
   "source": [
    "## C-1.23"
   ]
  },
  {
   "cell_type": "code",
   "execution_count": 6,
   "metadata": {},
   "outputs": [],
   "source": [
    "def Assign_value(array, index):\n",
    "    try:\n",
    "        array[index] += 1\n",
    "    except IndexError:\n",
    "        print(\"Don't try buffer overflow attacks in Python!\")"
   ]
  },
  {
   "cell_type": "code",
   "execution_count": 7,
   "metadata": {},
   "outputs": [
    {
     "name": "stdout",
     "output_type": "stream",
     "text": [
      "Don't try buffer overflow attacks in Python!\n"
     ]
    }
   ],
   "source": [
    "array = [1, 2, 4]\n",
    "Assign_value(array, 3)"
   ]
  },
  {
   "cell_type": "markdown",
   "metadata": {},
   "source": [
    "## C-1.24"
   ]
  },
  {
   "cell_type": "code",
   "execution_count": 8,
   "metadata": {},
   "outputs": [],
   "source": [
    "def Count_Vowel(string):\n",
    "    lis = ['a', 'o', 'e', 'i', 'u']\n",
    "    count = 0\n",
    "    for item in string:\n",
    "        if item in lis:\n",
    "            count += 1\n",
    "    return count"
   ]
  },
  {
   "cell_type": "code",
   "execution_count": 9,
   "metadata": {},
   "outputs": [
    {
     "data": {
      "text/plain": [
       "5"
      ]
     },
     "execution_count": 9,
     "metadata": {},
     "output_type": "execute_result"
    }
   ],
   "source": [
    "string = 'aoeiu'\n",
    "Count_Vowel(string)"
   ]
  },
  {
   "cell_type": "markdown",
   "metadata": {},
   "source": [
    "## C-1.25"
   ]
  },
  {
   "cell_type": "code",
   "execution_count": 18,
   "metadata": {},
   "outputs": [],
   "source": [
    "def Remove_Punct(string):\n",
    "    punc_lis = [',', '.', '\\'']\n",
    "    lis_cha = list(string)\n",
    "    for i in range(len(lis_cha)):\n",
    "        if lis_cha[i] in punc_lis:\n",
    "            lis_cha[i] = ''\n",
    "    return ''.join(lis_cha)"
   ]
  },
  {
   "cell_type": "code",
   "execution_count": 19,
   "metadata": {},
   "outputs": [
    {
     "data": {
      "text/plain": [
       "'Lets try Mike'"
      ]
     },
     "execution_count": 19,
     "metadata": {},
     "output_type": "execute_result"
    }
   ],
   "source": [
    "string = \"Let's try, Mike.\"\n",
    "Remove_Punct(string)"
   ]
  },
  {
   "cell_type": "markdown",
   "metadata": {},
   "source": [
    "## C-1.26"
   ]
  },
  {
   "cell_type": "code",
   "execution_count": 21,
   "metadata": {},
   "outputs": [
    {
     "name": "stdin",
     "output_type": "stream",
     "text": [
      " 1 2 3\n"
     ]
    },
    {
     "name": "stdout",
     "output_type": "stream",
     "text": [
      "True\n"
     ]
    }
   ],
   "source": [
    "a, b, c = map(int, input().split())\n",
    "if a + b == c:\n",
    "    print(\"True\")\n",
    "else:\n",
    "    print(\"False\")"
   ]
  },
  {
   "cell_type": "markdown",
   "metadata": {},
   "source": [
    "## C-1.27"
   ]
  },
  {
   "cell_type": "code",
   "execution_count": 28,
   "metadata": {},
   "outputs": [
    {
     "name": "stdin",
     "output_type": "stream",
     "text": [
      "Once deleted, variables cannot be recovered. Proceed (y/[n])?  y\n"
     ]
    }
   ],
   "source": [
    "reset"
   ]
  },
  {
   "cell_type": "code",
   "execution_count": 33,
   "metadata": {},
   "outputs": [],
   "source": [
    "def factors(n):\n",
    "    k = 1\n",
    "    lis = []\n",
    "    while k * k <= n:\n",
    "        if n % k == 0:\n",
    "            lis.append(k)\n",
    "            yield k\n",
    "        k += 1\n",
    "    for i in range(len(lis)-1, -1, -1):\n",
    "        yield n // lis[i]"
   ]
  },
  {
   "cell_type": "code",
   "execution_count": 34,
   "metadata": {},
   "outputs": [
    {
     "data": {
      "text/plain": [
       "[1, 2, 4, 5, 10, 10, 20, 25, 50, 100]"
      ]
     },
     "execution_count": 34,
     "metadata": {},
     "output_type": "execute_result"
    }
   ],
   "source": [
    "list(factors(100))"
   ]
  },
  {
   "cell_type": "markdown",
   "metadata": {},
   "source": [
    "## C-1.28"
   ]
  },
  {
   "cell_type": "code",
   "execution_count": 35,
   "metadata": {},
   "outputs": [],
   "source": [
    "def norm(v, p=2):\n",
    "    sum_v = 0\n",
    "    for num in v:\n",
    "        sum_v += pow(num, p)\n",
    "    return pow(sum_v, 1.0/p)      "
   ]
  },
  {
   "cell_type": "code",
   "execution_count": 36,
   "metadata": {},
   "outputs": [
    {
     "data": {
      "text/plain": [
       "5.0"
      ]
     },
     "execution_count": 36,
     "metadata": {},
     "output_type": "execute_result"
    }
   ],
   "source": [
    "norm((3,4))"
   ]
  },
  {
   "cell_type": "markdown",
   "metadata": {},
   "source": [
    "## P-1.29"
   ]
  },
  {
   "cell_type": "code",
   "execution_count": 110,
   "metadata": {},
   "outputs": [
    {
     "name": "stdin",
     "output_type": "stream",
     "text": [
      "Once deleted, variables cannot be recovered. Proceed (y/[n])?  y\n"
     ]
    }
   ],
   "source": [
    "reset"
   ]
  },
  {
   "cell_type": "code",
   "execution_count": 131,
   "metadata": {},
   "outputs": [],
   "source": [
    "cha = ['c', 'a', 't', 'd', 'o', 'g']\n",
    "def permutation(cha):   \n",
    "    if not cha:\n",
    "        return ''\n",
    "    elif len(cha) == 1:\n",
    "        return cha[0]\n",
    "    else:\n",
    "        for i in range(len(cha)):\n",
    "            dup = cha[:i]+cha[i+1:]\n",
    "            print(\"dup\", dup) \n",
    "            print(\"char[i]\", cha[i])\n",
    "            print(cha[i] + permutation(dup))"
   ]
  },
  {
   "cell_type": "code",
   "execution_count": 132,
   "metadata": {},
   "outputs": [
    {
     "name": "stdout",
     "output_type": "stream",
     "text": [
      "dup ['a', 't', 'd', 'o', 'g']\n",
      "char[i] c\n",
      "dup ['t', 'd', 'o', 'g']\n",
      "char[i] a\n",
      "dup ['d', 'o', 'g']\n",
      "char[i] t\n",
      "dup ['o', 'g']\n",
      "char[i] d\n",
      "dup ['g']\n",
      "char[i] o\n",
      "og\n",
      "dup ['o']\n",
      "char[i] g\n",
      "go\n"
     ]
    },
    {
     "ename": "TypeError",
     "evalue": "can only concatenate str (not \"NoneType\") to str",
     "output_type": "error",
     "traceback": [
      "\u001b[1;31m---------------------------------------------------------------------------\u001b[0m",
      "\u001b[1;31mTypeError\u001b[0m                                 Traceback (most recent call last)",
      "\u001b[1;32m<ipython-input-132-300cf7d05ee5>\u001b[0m in \u001b[0;36m<module>\u001b[1;34m\u001b[0m\n\u001b[1;32m----> 1\u001b[1;33m \u001b[0mpermutation\u001b[0m\u001b[1;33m(\u001b[0m\u001b[0mcha\u001b[0m\u001b[1;33m)\u001b[0m\u001b[1;33m\u001b[0m\u001b[1;33m\u001b[0m\u001b[0m\n\u001b[0m",
      "\u001b[1;32m<ipython-input-131-43605bf82483>\u001b[0m in \u001b[0;36mpermutation\u001b[1;34m(cha)\u001b[0m\n\u001b[0;32m     10\u001b[0m             \u001b[0mprint\u001b[0m\u001b[1;33m(\u001b[0m\u001b[1;34m\"dup\"\u001b[0m\u001b[1;33m,\u001b[0m \u001b[0mdup\u001b[0m\u001b[1;33m)\u001b[0m\u001b[1;33m\u001b[0m\u001b[1;33m\u001b[0m\u001b[0m\n\u001b[0;32m     11\u001b[0m             \u001b[0mprint\u001b[0m\u001b[1;33m(\u001b[0m\u001b[1;34m\"char[i]\"\u001b[0m\u001b[1;33m,\u001b[0m \u001b[0mcha\u001b[0m\u001b[1;33m[\u001b[0m\u001b[0mi\u001b[0m\u001b[1;33m]\u001b[0m\u001b[1;33m)\u001b[0m\u001b[1;33m\u001b[0m\u001b[1;33m\u001b[0m\u001b[0m\n\u001b[1;32m---> 12\u001b[1;33m             \u001b[0mprint\u001b[0m\u001b[1;33m(\u001b[0m\u001b[0mcha\u001b[0m\u001b[1;33m[\u001b[0m\u001b[0mi\u001b[0m\u001b[1;33m]\u001b[0m \u001b[1;33m+\u001b[0m \u001b[0mpermutation\u001b[0m\u001b[1;33m(\u001b[0m\u001b[0mdup\u001b[0m\u001b[1;33m)\u001b[0m\u001b[1;33m)\u001b[0m\u001b[1;33m\u001b[0m\u001b[1;33m\u001b[0m\u001b[0m\n\u001b[0m",
      "\u001b[1;32m<ipython-input-131-43605bf82483>\u001b[0m in \u001b[0;36mpermutation\u001b[1;34m(cha)\u001b[0m\n\u001b[0;32m     10\u001b[0m             \u001b[0mprint\u001b[0m\u001b[1;33m(\u001b[0m\u001b[1;34m\"dup\"\u001b[0m\u001b[1;33m,\u001b[0m \u001b[0mdup\u001b[0m\u001b[1;33m)\u001b[0m\u001b[1;33m\u001b[0m\u001b[1;33m\u001b[0m\u001b[0m\n\u001b[0;32m     11\u001b[0m             \u001b[0mprint\u001b[0m\u001b[1;33m(\u001b[0m\u001b[1;34m\"char[i]\"\u001b[0m\u001b[1;33m,\u001b[0m \u001b[0mcha\u001b[0m\u001b[1;33m[\u001b[0m\u001b[0mi\u001b[0m\u001b[1;33m]\u001b[0m\u001b[1;33m)\u001b[0m\u001b[1;33m\u001b[0m\u001b[1;33m\u001b[0m\u001b[0m\n\u001b[1;32m---> 12\u001b[1;33m             \u001b[0mprint\u001b[0m\u001b[1;33m(\u001b[0m\u001b[0mcha\u001b[0m\u001b[1;33m[\u001b[0m\u001b[0mi\u001b[0m\u001b[1;33m]\u001b[0m \u001b[1;33m+\u001b[0m \u001b[0mpermutation\u001b[0m\u001b[1;33m(\u001b[0m\u001b[0mdup\u001b[0m\u001b[1;33m)\u001b[0m\u001b[1;33m)\u001b[0m\u001b[1;33m\u001b[0m\u001b[1;33m\u001b[0m\u001b[0m\n\u001b[0m",
      "\u001b[1;32m<ipython-input-131-43605bf82483>\u001b[0m in \u001b[0;36mpermutation\u001b[1;34m(cha)\u001b[0m\n\u001b[0;32m     10\u001b[0m             \u001b[0mprint\u001b[0m\u001b[1;33m(\u001b[0m\u001b[1;34m\"dup\"\u001b[0m\u001b[1;33m,\u001b[0m \u001b[0mdup\u001b[0m\u001b[1;33m)\u001b[0m\u001b[1;33m\u001b[0m\u001b[1;33m\u001b[0m\u001b[0m\n\u001b[0;32m     11\u001b[0m             \u001b[0mprint\u001b[0m\u001b[1;33m(\u001b[0m\u001b[1;34m\"char[i]\"\u001b[0m\u001b[1;33m,\u001b[0m \u001b[0mcha\u001b[0m\u001b[1;33m[\u001b[0m\u001b[0mi\u001b[0m\u001b[1;33m]\u001b[0m\u001b[1;33m)\u001b[0m\u001b[1;33m\u001b[0m\u001b[1;33m\u001b[0m\u001b[0m\n\u001b[1;32m---> 12\u001b[1;33m             \u001b[0mprint\u001b[0m\u001b[1;33m(\u001b[0m\u001b[0mcha\u001b[0m\u001b[1;33m[\u001b[0m\u001b[0mi\u001b[0m\u001b[1;33m]\u001b[0m \u001b[1;33m+\u001b[0m \u001b[0mpermutation\u001b[0m\u001b[1;33m(\u001b[0m\u001b[0mdup\u001b[0m\u001b[1;33m)\u001b[0m\u001b[1;33m)\u001b[0m\u001b[1;33m\u001b[0m\u001b[1;33m\u001b[0m\u001b[0m\n\u001b[0m",
      "\u001b[1;32m<ipython-input-131-43605bf82483>\u001b[0m in \u001b[0;36mpermutation\u001b[1;34m(cha)\u001b[0m\n\u001b[0;32m     10\u001b[0m             \u001b[0mprint\u001b[0m\u001b[1;33m(\u001b[0m\u001b[1;34m\"dup\"\u001b[0m\u001b[1;33m,\u001b[0m \u001b[0mdup\u001b[0m\u001b[1;33m)\u001b[0m\u001b[1;33m\u001b[0m\u001b[1;33m\u001b[0m\u001b[0m\n\u001b[0;32m     11\u001b[0m             \u001b[0mprint\u001b[0m\u001b[1;33m(\u001b[0m\u001b[1;34m\"char[i]\"\u001b[0m\u001b[1;33m,\u001b[0m \u001b[0mcha\u001b[0m\u001b[1;33m[\u001b[0m\u001b[0mi\u001b[0m\u001b[1;33m]\u001b[0m\u001b[1;33m)\u001b[0m\u001b[1;33m\u001b[0m\u001b[1;33m\u001b[0m\u001b[0m\n\u001b[1;32m---> 12\u001b[1;33m             \u001b[0mprint\u001b[0m\u001b[1;33m(\u001b[0m\u001b[0mcha\u001b[0m\u001b[1;33m[\u001b[0m\u001b[0mi\u001b[0m\u001b[1;33m]\u001b[0m \u001b[1;33m+\u001b[0m \u001b[0mpermutation\u001b[0m\u001b[1;33m(\u001b[0m\u001b[0mdup\u001b[0m\u001b[1;33m)\u001b[0m\u001b[1;33m)\u001b[0m\u001b[1;33m\u001b[0m\u001b[1;33m\u001b[0m\u001b[0m\n\u001b[0m",
      "\u001b[1;31mTypeError\u001b[0m: can only concatenate str (not \"NoneType\") to str"
     ]
    }
   ],
   "source": [
    "permutation(cha)"
   ]
  },
  {
   "cell_type": "markdown",
   "metadata": {},
   "source": [
    "## P-1.30"
   ]
  },
  {
   "cell_type": "code",
   "execution_count": 44,
   "metadata": {},
   "outputs": [],
   "source": [
    "def multi_2(value):\n",
    "    times = 0\n",
    "    while value >= 2:\n",
    "        value /= 2\n",
    "        times += 1\n",
    "    print(times)"
   ]
  },
  {
   "cell_type": "code",
   "execution_count": 46,
   "metadata": {},
   "outputs": [
    {
     "name": "stdout",
     "output_type": "stream",
     "text": [
      "2\n"
     ]
    }
   ],
   "source": [
    "multi_2(4)"
   ]
  },
  {
   "cell_type": "markdown",
   "metadata": {},
   "source": [
    "## P-1.31"
   ]
  },
  {
   "cell_type": "code",
   "execution_count": 63,
   "metadata": {},
   "outputs": [
    {
     "name": "stdin",
     "output_type": "stream",
     "text": [
      "Once deleted, variables cannot be recovered. Proceed (y/[n])?  y\n"
     ]
    }
   ],
   "source": [
    "reset"
   ]
  },
  {
   "cell_type": "code",
   "execution_count": 66,
   "metadata": {},
   "outputs": [],
   "source": [
    "def make_change(give, charge):\n",
    "    current = [100, 50, 20, 10, 5, 1, 0.5, 0.1]\n",
    "    difference = give - charge\n",
    "    lis = [None] * 8\n",
    "    for i in range(len(current)):\n",
    "        count = 0\n",
    "        while difference >= current[i]:\n",
    "            difference -= current[i]\n",
    "            print(difference)\n",
    "            count += 1\n",
    "        lis[i] = count\n",
    "        print('Current %s * %d' % (current[i], count))\n",
    "    "
   ]
  },
  {
   "cell_type": "markdown",
   "metadata": {},
   "source": [
    "make_change(200, 151.4)"
   ]
  },
  {
   "cell_type": "markdown",
   "metadata": {},
   "source": [
    "there is a problem about precision"
   ]
  },
  {
   "cell_type": "markdown",
   "metadata": {},
   "source": [
    "## P-1.32"
   ]
  },
  {
   "cell_type": "code",
   "execution_count": 86,
   "metadata": {},
   "outputs": [
    {
     "name": "stdin",
     "output_type": "stream",
     "text": [
      " 2+3=\n"
     ]
    },
    {
     "ename": "SyntaxError",
     "evalue": "unexpected EOF while parsing (<string>, line 1)",
     "output_type": "error",
     "traceback": [
      "Traceback \u001b[1;36m(most recent call last)\u001b[0m:\n",
      "  File \u001b[0;32m\"D:\\Anaconda3\\lib\\site-packages\\IPython\\core\\interactiveshell.py\"\u001b[0m, line \u001b[0;32m3296\u001b[0m, in \u001b[0;35mrun_code\u001b[0m\n    exec(code_obj, self.user_global_ns, self.user_ns)\n",
      "\u001b[1;36m  File \u001b[1;32m\"<ipython-input-86-c12a7640cdb0>\"\u001b[1;36m, line \u001b[1;32m1\u001b[1;36m, in \u001b[1;35m<module>\u001b[1;36m\u001b[0m\n\u001b[1;33m    print(eval(input()))\u001b[0m\n",
      "\u001b[1;36m  File \u001b[1;32m\"<string>\"\u001b[1;36m, line \u001b[1;32m1\u001b[0m\n\u001b[1;33m    2+3=\u001b[0m\n\u001b[1;37m       ^\u001b[0m\n\u001b[1;31mSyntaxError\u001b[0m\u001b[1;31m:\u001b[0m unexpected EOF while parsing\n"
     ]
    }
   ],
   "source": [
    "#print(eval(input()))\n",
    "formula = input().split()"
   ]
  },
  {
   "cell_type": "markdown",
   "metadata": {},
   "source": [
    "## P-1.33"
   ]
  },
  {
   "cell_type": "code",
   "execution_count": null,
   "metadata": {},
   "outputs": [],
   "source": []
  },
  {
   "cell_type": "markdown",
   "metadata": {},
   "source": [
    "## P-1.34"
   ]
  },
  {
   "cell_type": "code",
   "execution_count": 83,
   "metadata": {
    "scrolled": true
   },
   "outputs": [
    {
     "name": "stdout",
     "output_type": "stream",
     "text": [
      "1: I will never spam my friends again.\n",
      "2: I will never spam my friend again.\n",
      "3: I will never spam my friends again.\n",
      "4: I will never spam my friend again.\n",
      "5: I will never spam my friends again.\n",
      "6: I will never spam my friends again.\n",
      "7: I will never spam my friends again.\n",
      "8: I will never spam my friends again.\n",
      "9: I will never spam my friends again.\n",
      "10: I will never spam my friends again.\n",
      "11: I will never spam my friends again.\n",
      "12: I will never spam my friends again.\n",
      "13: I will never spam my friends again.\n",
      "14: I will never spam my friends again.\n",
      "15: I will never spam my friends again.\n",
      "16: I will never spam my friends again.\n",
      "17: I will never spam my friends again.\n",
      "18: I will never spam my friends again.\n",
      "19: I will never spam my friends again.\n",
      "20: I will never spam my friends again.\n",
      "21: I will never spam my friends again.\n",
      "22: I will never spam my friends again.\n",
      "23: I will never spam my friends again.\n",
      "24: I will never spam my friends again.\n",
      "25: I will never spam my friends again.\n",
      "26: I will never spam my friends again.\n",
      "27: I will never spam my friends again.\n",
      "28: I will never spam my friends again.\n",
      "29: I will never spam my friends again.\n",
      "30: I will never spam my friends again.\n",
      "31: I will never spam my friends again.\n",
      "32: I will never spam my friends again.\n",
      "33: I will never spam my friends again.\n",
      "34: I will never spam my friends again.\n",
      "35: I will never spam my friends again.\n",
      "36: I will never spam my friends again.\n",
      "37: I will never spam my friends again.\n",
      "38: I will never spam my friends again.\n",
      "39: I will never spam my friends again.\n",
      "40: I will never spam my friends again.\n",
      "41: I will never spam my friend again.\n",
      "42: I will never spam my friends again.\n",
      "43: I will never spam my friends again.\n",
      "44: I will never spam my friends again.\n",
      "45: I will never spam my friends again.\n",
      "46: I will never spam my friends again.\n",
      "47: I will never spam my friends again.\n",
      "48: I will never spam my friends again.\n",
      "49: I will never spam my friends again.\n",
      "50: I will never spam my friends again.\n",
      "51: I will never spam my friends again.\n",
      "52: I will never spam my friends again.\n",
      "53: I will never spam my friends again.\n",
      "54: I will never spam my friends again.\n",
      "55: I will never spam my friends again.\n",
      "56: I will never spam my friends again.\n",
      "57: I will never spam my friends again.\n",
      "58: I will never spam my friends again.\n",
      "59: I will never spam my friends again.\n",
      "60: I will never spam my friend again.\n",
      "61: I will never spam my friends again.\n",
      "62: I will never spam my friends again.\n",
      "63: I will never spam my friends again.\n",
      "64: I will never spam my friends again.\n",
      "65: I will never spam my friends again.\n",
      "66: I will never spam my friends again.\n",
      "67: I will never spam my friends again.\n",
      "68: I will never spam my friends again.\n",
      "69: I will never spam my friends again.\n",
      "70: I will never spam my friends again.\n",
      "71: I will never spam my friends again.\n",
      "72: I will never spam my friend again.\n",
      "73: I will never spam my friends again.\n",
      "74: I will never spam my friends again.\n",
      "75: I will never spam my friends again.\n",
      "76: I will never spam my friends again.\n",
      "77: I will never spam my friends again.\n",
      "78: I will never spam my friends again.\n",
      "79: I will never spam my friend again.\n",
      "80: I will never spam my friend again.\n",
      "81: I will never spam my friends again.\n",
      "82: I will never spam my friends again.\n",
      "83: I will never spam my friends again.\n",
      "84: I will never spam my friends again.\n",
      "85: I will never spam my friends again.\n",
      "86: I will never spam my friends again.\n",
      "87: I will never spam my friends again.\n",
      "88: I will never spam my friends again.\n",
      "89: I will never spam my friends again.\n",
      "90: I will never spam my friends again.\n",
      "91: I will never spam my friend again.\n",
      "92: I will never spam my friends again.\n",
      "93: I will never spam my friends again.\n",
      "94: I will never spam my friends again.\n",
      "95: I will never spam my friends again.\n",
      "96: I will never spam my friends again.\n",
      "97: I will never spam my friends again.\n",
      "98: I will never spam my friends again.\n",
      "99: I will never spam my friends again.\n",
      "100: I will never spam my friends again.\n"
     ]
    }
   ],
   "source": [
    "lis = [None] * 8\n",
    "for i in range(8):\n",
    "    lis[i] = randint(1, 100)\n",
    "for i in range(100):\n",
    "    if i in lis:\n",
    "        print('%d: I will never spam my friend again.' % (i+1))\n",
    "    else:\n",
    "        print('%d: I will never spam my friends again.' % (i+1))"
   ]
  },
  {
   "cell_type": "markdown",
   "metadata": {},
   "source": [
    "## P-1.35"
   ]
  },
  {
   "cell_type": "code",
   "execution_count": 78,
   "metadata": {},
   "outputs": [],
   "source": [
    "from random import randint\n",
    "def birth_paradox(n):\n",
    "    count = 0\n",
    "    for i in range(1000):\n",
    "        lis = [None] * n\n",
    "        for j in range(n):\n",
    "            lis[j] = randint(1,366)\n",
    "        if len(lis) != len(set(lis)):\n",
    "            count += 1\n",
    "    print('Probability is %f' % (count/1000))"
   ]
  },
  {
   "cell_type": "code",
   "execution_count": 79,
   "metadata": {},
   "outputs": [
    {
     "name": "stdout",
     "output_type": "stream",
     "text": [
      "Probability is 0.025000\n"
     ]
    }
   ],
   "source": [
    "birth_paradox(5)"
   ]
  },
  {
   "cell_type": "code",
   "execution_count": 80,
   "metadata": {},
   "outputs": [
    {
     "name": "stdout",
     "output_type": "stream",
     "text": [
      "Probability is 0.036000\n",
      "Probability is 0.114000\n",
      "Probability is 0.246000\n",
      "Probability is 0.391000\n",
      "Probability is 0.562000\n",
      "Probability is 0.705000\n",
      "Probability is 0.806000\n",
      "Probability is 0.886000\n",
      "Probability is 0.944000\n",
      "Probability is 0.960000\n",
      "Probability is 0.986000\n",
      "Probability is 0.994000\n",
      "Probability is 1.000000\n",
      "Probability is 0.998000\n",
      "Probability is 1.000000\n",
      "Probability is 1.000000\n",
      "Probability is 1.000000\n",
      "Probability is 1.000000\n",
      "Probability is 1.000000\n",
      "Probability is 1.000000\n"
     ]
    }
   ],
   "source": [
    "for n in range(5, 105, 5):\n",
    "    birth_paradox(n)"
   ]
  },
  {
   "cell_type": "markdown",
   "metadata": {},
   "source": [
    "## P-1.36"
   ]
  },
  {
   "cell_type": "code",
   "execution_count": 69,
   "metadata": {},
   "outputs": [],
   "source": [
    "def count_word():\n",
    "    word_lis = input().split()\n",
    "    set_lis = set(word_lis)\n",
    "    for item1 in set_lis:\n",
    "        count = 0\n",
    "        for item2 in word_lis:\n",
    "            if item1 == item2:\n",
    "                count += 1\n",
    "        print('word %s appears %d time(s)' % (item1, count))"
   ]
  },
  {
   "cell_type": "code",
   "execution_count": 70,
   "metadata": {},
   "outputs": [
    {
     "name": "stdin",
     "output_type": "stream",
     "text": [
      " a apple in a black cup\n"
     ]
    },
    {
     "name": "stdout",
     "output_type": "stream",
     "text": [
      "word apple appears 1 time(s)\n",
      "word in appears 1 time(s)\n",
      "word cup appears 1 time(s)\n",
      "word black appears 1 time(s)\n",
      "word a appears 2 time(s)\n"
     ]
    }
   ],
   "source": [
    "count_word()"
   ]
  },
  {
   "cell_type": "code",
   "execution_count": null,
   "metadata": {},
   "outputs": [],
   "source": []
  }
 ],
 "metadata": {
  "kernelspec": {
   "display_name": "Python 3",
   "language": "python",
   "name": "python3"
  },
  "language_info": {
   "codemirror_mode": {
    "name": "ipython",
    "version": 3
   },
   "file_extension": ".py",
   "mimetype": "text/x-python",
   "name": "python",
   "nbconvert_exporter": "python",
   "pygments_lexer": "ipython3",
   "version": "3.7.3"
  }
 },
 "nbformat": 4,
 "nbformat_minor": 4
}
