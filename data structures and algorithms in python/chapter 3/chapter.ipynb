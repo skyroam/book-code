{
 "cells": [
  {
   "cell_type": "markdown",
   "metadata": {},
   "source": [
    "# Chapter 3"
   ]
  },
  {
   "cell_type": "markdown",
   "metadata": {},
   "source": [
    "## R-3.1"
   ]
  },
  {
   "cell_type": "code",
   "execution_count": 32,
   "metadata": {},
   "outputs": [
    {
     "data": {
      "image/png": "[encoded data removed]",
      "text/plain": [
       "<Figure size 432x288 with 1 Axes>"
      ]
     },
     "metadata": {
      "needs_background": "light"
     },
     "output_type": "display_data"
    }
   ],
   "source": [
    "import matplotlib.pyplot as plt\n",
    "import math\n",
    "import numpy as np\n",
    "\n",
    "def f1(x):\n",
    "    y = []\n",
    "    for i in x:\n",
    "        y.append(8 * i)\n",
    "    return y\n",
    "\n",
    "def f2(x):\n",
    "    y = []\n",
    "    for i in x:\n",
    "        y.append(4 * i * math.log(i, 2))\n",
    "    return y\n",
    "\n",
    "def f3(x):\n",
    "    y = []\n",
    "    for i in x:\n",
    "        y.append(2 * i ** 2)\n",
    "    return y\n",
    "\n",
    "def f4(x):\n",
    "    y = []\n",
    "    for i in x:\n",
    "        y.append(i ** 3)\n",
    "    return y\n",
    "\n",
    "def f5(x):\n",
    "    y = []\n",
    "    for i in x:\n",
    "        y.append(math.pow(i, 2))\n",
    "    return y\n",
    "\n",
    "x_coord = np.array([2**i for i in range(2, 10)])\n",
    "plt.plot(x_coord, f1(x_coord), label='8n')\n",
    "plt.plot(x_coord, f2(x_coord), label='4nlogn')\n",
    "plt.plot(x_coord, f3(x_coord), label='2n^2')\n",
    "plt.plot(x_coord, f4(x_coord), label='n^3')\n",
    "plt.plot(x_coord, f5(x_coord), label='2^n')\n",
    "plt.legend()\n",
    "plt.xscale('log', basex=2)\n",
    "plt.yscale('log', basey=2)\n",
    "plt.xlabel('log (x)')\n",
    "plt.ylabel('log (y)')\n",
    "plt.show()"
   ]
  },
  {
   "cell_type": "markdown",
   "metadata": {},
   "source": [
    "## R-3.2"
   ]
  },
  {
   "cell_type": "markdown",
   "metadata": {},
   "source": [
    "8nlogn < 2n^2  \n",
    "4logn < n  \n",
    "logn < n/4  \n",
    "n0 = 16"
   ]
  },
  {
   "cell_type": "markdown",
   "metadata": {},
   "source": [
    "## R-3.3"
   ]
  },
  {
   "cell_type": "markdown",
   "metadata": {},
   "source": [
    "40n^2 < 2n^3  \n",
    "20 < n  \n",
    "n0 = 20  "
   ]
  },
  {
   "cell_type": "markdown",
   "metadata": {},
   "source": [
    "## R-3.4"
   ]
  },
  {
   "cell_type": "markdown",
   "metadata": {},
   "source": [
    "y=x, x>1"
   ]
  },
  {
   "cell_type": "markdown",
   "metadata": {},
   "source": [
    "## R-3.5"
   ]
  },
  {
   "cell_type": "markdown",
   "metadata": {},
   "source": [
    "f = n^c  \n",
    "log f = c log n  \n",
    "then assume log f is y and log n is x,  \n",
    "we conclude y = c x  "
   ]
  },
  {
   "cell_type": "markdown",
   "metadata": {},
   "source": [
    "## R-3.6"
   ]
  },
  {
   "cell_type": "markdown",
   "metadata": {},
   "source": [
    "0 + 2 + 4 + ... + 2n  \n",
    "= 2(1 + 2 + ... + n)  \n",
    "= 2n(n+1)/2  \n",
    "= n(n+1)"
   ]
  },
  {
   "cell_type": "markdown",
   "metadata": {},
   "source": [
    "## R-3.7"
   ]
  },
  {
   "cell_type": "markdown",
   "metadata": {},
   "source": [
    "Yes, because the notation of O is the upper bound of running time of algorithm"
   ]
  },
  {
   "cell_type": "markdown",
   "metadata": {},
   "source": [
    "## R-3.8"
   ]
  },
  {
   "cell_type": "markdown",
   "metadata": {},
   "source": [
    "2^10 < 2^(logn) < 3n+l00logn < 4n < nlogn < 4nlogn+2n < n^2+10n < n^3 < 2^n"
   ]
  },
  {
   "cell_type": "markdown",
   "metadata": {},
   "source": [
    "## R-3.9"
   ]
  },
  {
   "cell_type": "markdown",
   "metadata": {},
   "source": [
    "Because d(n) is O(f(n)), that is, d(n) < c f(n), so a d(n) < ac f(n), hence the c' is ac"
   ]
  },
  {
   "cell_type": "markdown",
   "metadata": {},
   "source": [
    "## R-3.10"
   ]
  },
  {
   "cell_type": "markdown",
   "metadata": {},
   "source": [
    "d(n) < c1(f(n)), e(n) < c2(g(n)), d(n)e(n) < c1c2(f(n)g(n)), then c1c2 is c'"
   ]
  },
  {
   "cell_type": "markdown",
   "metadata": {},
   "source": [
    "## R-3.11"
   ]
  },
  {
   "cell_type": "markdown",
   "metadata": {},
   "source": [
    "d(n) < c1f(n), e(n) < c2g(n), d(n)+e(n) < c1f(n)+c2g(n) < (c1+c2)(f(n)+g(n)), so (c1+c2) is c'"
   ]
  },
  {
   "cell_type": "markdown",
   "metadata": {},
   "source": [
    "## R-3.12"
   ]
  },
  {
   "cell_type": "markdown",
   "metadata": {},
   "source": [
    "Assume d(n)=2n^2, e(n)=n^2, d(n)-e(n)=n^2, while f(n)=n^2, g(n)=n^2, so f(n)-g(n)=0. "
   ]
  },
  {
   "cell_type": "code",
   "execution_count": null,
   "metadata": {},
   "outputs": [],
   "source": [
    "## R-3.13"
   ]
  }
 ],
 "metadata": {
  "kernelspec": {
   "display_name": "Python 3",
   "language": "python",
   "name": "python3"
  },
  "language_info": {
   "codemirror_mode": {
    "name": "ipython",
    "version": 3
   },
   "file_extension": ".py",
   "mimetype": "text/x-python",
   "name": "python",
   "nbconvert_exporter": "python",
   "pygments_lexer": "ipython3",
   "version": "3.7.3"
  }
 },
 "nbformat": 4,
 "nbformat_minor": 4
}
